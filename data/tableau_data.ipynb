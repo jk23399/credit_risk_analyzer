{
 "cells": [
  {
   "cell_type": "code",
   "execution_count": 3,
   "metadata": {},
   "outputs": [
    {
     "name": "stdout",
     "output_type": "stream",
     "text": [
      "'tableau_data.csv' 파일이 성공적으로 생성되었습니다.\n",
      "이제 Tableau에서 이 파일을 연결하여 대시보드를 만들 수 있습니다.\n"
     ]
    }
   ],
   "source": [
    "import pandas as pd\n",
    "from pathlib import Path\n",
    "\n",
    "# 원본 데이터 파일 경로를 지정합니다.\n",
    "# 만약 파일 위치가 다르다면 이 부분을 수정해주세요.\n",
    "csv_file_path = 'loan_approval_dataset.csv'\n",
    "output_filename = 'tableau_data.csv'\n",
    "\n",
    "try:\n",
    "    # 데이터 불러오기\n",
    "    df_full = pd.read_csv(csv_file_path)\n",
    "\n",
    "    # --- 노트북에서 수행한 데이터 정제 및 변환 ---\n",
    "\n",
    "    # 1. 컬럼 이름의 양 끝 공백 제거\n",
    "    df_full.columns = df_full.columns.str.strip()\n",
    "\n",
    "    # 2. 불필요한 'loan_id' 컬럼 제거\n",
    "    if 'loan_id' in df_full.columns:\n",
    "        df_full.drop(columns=['loan_id'], inplace=True)\n",
    "\n",
    "    # 3. 'loan_status' 값의 공백 제거 및 계산을 위한 숫자 플래그 생성\n",
    "    df_full['loan_status'] = df_full['loan_status'].str.strip()\n",
    "    df_full['approved_flag'] = df_full['loan_status'].map({'Approved': 1, 'Rejected': 0})\n",
    "\n",
    "    # --- Tableau용 파일로 저장 ---\n",
    "    df_full.to_csv(output_filename, index=False)\n",
    "\n",
    "    print(f\"'{output_filename}' 파일이 성공적으로 생성되었습니다.\")\n",
    "    print(\"이제 Tableau에서 이 파일을 연결하여 대시보드를 만들 수 있습니다.\")\n",
    "\n",
    "except FileNotFoundError:\n",
    "    print(f\"Error: '{csv_file_path}' 파일을 찾을 수 없습니다.\")\n",
    "    print(\"스크립트를 실행하는 위치에 'data' 폴더와 그 안에 'loan_approval_dataset.csv' 파일이 있는지 확인해주세요.\")"
   ]
  }
 ],
 "metadata": {
  "kernelspec": {
   "display_name": "venv",
   "language": "python",
   "name": "python3"
  },
  "language_info": {
   "codemirror_mode": {
    "name": "ipython",
    "version": 3
   },
   "file_extension": ".py",
   "mimetype": "text/x-python",
   "name": "python",
   "nbconvert_exporter": "python",
   "pygments_lexer": "ipython3",
   "version": "3.13.5"
  }
 },
 "nbformat": 4,
 "nbformat_minor": 2
}
